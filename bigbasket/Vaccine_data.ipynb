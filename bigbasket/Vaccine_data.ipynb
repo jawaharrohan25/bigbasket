{
 "cells": [
  {
   "cell_type": "code",
   "execution_count": null,
   "metadata": {},
   "outputs": [],
   "source": []
  },
  {
   "cell_type": "code",
   "execution_count": null,
   "metadata": {},
   "outputs": [],
   "source": [
    "import csv\r\n",
    "import requests\r\n",
    "import matplotlib as plt\r\n",
    "import pandas as pd\r\n",
    "import datetime\r\n",
    "import numpy as np\r\n",
    "\r\n",
    "\r\n",
    "CSV_URL = 'http://api.covid19india.org/csv/latest/vaccine_doses_statewise_v2.csv'\r\n",
    "\r\n",
    "\r\n",
    "with requests.Session() as s:\r\n",
    "    download = s.get(CSV_URL)\r\n",
    "\r\n",
    "    decoded_content = download.content.decode('utf-8')\r\n",
    "\r\n",
    "    cr = csv.reader(decoded_content.splitlines(), delimiter=',')\r\n",
    "    my_list = list(cr)\r\n",
    "    # for row in my_list:\r\n",
    "    #     print(row)\r\n",
    "\r\n",
    "df = pd.DataFrame(my_list)     \r\n",
    "df.drop(index=df.index[0], \r\n",
    "        axis=0, \r\n",
    "        inplace=True)\r\n",
    "\r\n",
    "df.columns =    ['date','state','first_dose','second_dose','Total']\r\n",
    "df['date'] = df['date'].apply(lambda x: datetime.datetime.strptime(x,'%d/%m/%Y'))\r\n",
    "\r\n",
    "df.set_index('date',drop=True,inplace=True)\r\n",
    "\r\n",
    "\r\n",
    "states = pd.DataFrame(df['state'].unique())\r\n",
    "states.columns = ['state']\r\n",
    "'Print Vaccine Data'\r\n",
    "\r\n",
    "df.first_dose = df['first_dose'].apply(lambda x: int(x))\r\n",
    "df.second_dose = df['second_dose'].apply(lambda x: int(x))\r\n",
    "df.Total = df['Total'].apply(lambda x: int(x))\r\n",
    "\r\n",
    "for state in states['state']:\r\n",
    "\r\n",
    "    df[df['state'] ==state][['first_dose','second_dose','Total']].plot(title=state + ' : Vaccine Data')\r\n",
    "    \r\n"
   ]
  },
  {
   "cell_type": "code",
   "execution_count": null,
   "metadata": {},
   "outputs": [],
   "source": [
    "download.content"
   ]
  },
  {
   "cell_type": "code",
   "execution_count": null,
   "metadata": {},
   "outputs": [],
   "source": [
    "my_list"
   ]
  },
  {
   "cell_type": "code",
   "execution_count": null,
   "metadata": {},
   "outputs": [],
   "source": []
  },
  {
   "cell_type": "code",
   "execution_count": null,
   "metadata": {},
   "outputs": [],
   "source": [
    "import pandas as pd\r\n",
    "import datetime\r\n",
    "import numpy as np\r\n",
    "# import matplotlib as plt\r\n",
    "\r\n",
    "filename = 'c:\\\\lal\\\\downloaded.csv'\r\n",
    "# filename = 'c:\\\\lal\\python\\\\vaccine.csv'\r\n",
    "\r\n",
    "df = pd.read_csv(filename)\r\n",
    "\r\n",
    "# csv_file = open('c:\\\\lal\\\\downloaded.csv', 'wb')\r\n",
    "\r\n",
    "df.columns =    ['date','state','first_dose','second_dose','Total']\r\n",
    "df['date'] = df['date'].apply(lambda x: datetime.datetime.strptime(x,'%d/%m/%Y'))\r\n",
    "\r\n",
    "df.set_index('date',drop=True,inplace=True)\r\n",
    "\r\n",
    "df.drop(index=df.index[0], \r\n",
    "        axis=0, \r\n",
    "        inplace=True)\r\n",
    "\r\n",
    "print(df)        "
   ]
  },
  {
   "cell_type": "code",
   "execution_count": null,
   "metadata": {},
   "outputs": [],
   "source": [
    "df.drop(index=df.index[0], \r\n",
    "        axis=0, \r\n",
    "        inplace=True)\r\n",
    "# print(df)"
   ]
  },
  {
   "cell_type": "code",
   "execution_count": null,
   "metadata": {},
   "outputs": [],
   "source": []
  },
  {
   "cell_type": "code",
   "execution_count": null,
   "metadata": {},
   "outputs": [],
   "source": [
    "states = pd.DataFrame(df['state'].unique())\r\n",
    "states.columns = ['state']"
   ]
  },
  {
   "cell_type": "code",
   "execution_count": null,
   "metadata": {},
   "outputs": [],
   "source": [
    "df.info()"
   ]
  },
  {
   "cell_type": "code",
   "execution_count": null,
   "metadata": {},
   "outputs": [],
   "source": [
    "import csv\r\n",
    "import requests\r\n",
    "import matplotlib as plt\r\n",
    "\r\n",
    "CSV_URL = 'http://api.covid19india.org/csv/latest/vaccine_doses_statewise_v2.csv'\r\n",
    "\r\n",
    "\r\n",
    "with requests.Session() as s:\r\n",
    "    download = s.get(CSV_URL)\r\n",
    "\r\n",
    "    decoded_content = download.content.decode('utf-8')\r\n",
    "\r\n",
    "    cr = csv.reader(decoded_content.splitlines(), delimiter=',')\r\n",
    "    my_list = list(cr)\r\n",
    "    # for row in my_list:\r\n",
    "    #     print(row)\r\n",
    "\r\n",
    "df = pd.DataFrame(my_list)     \r\n",
    "df.drop(index=df.index[0], \r\n",
    "        axis=0, \r\n",
    "        inplace=True)\r\n",
    "df.columns =    ['date','state','first_dose','second_dose','Total']\r\n",
    "df['date'] = df['date'].apply(lambda x: datetime.datetime.strptime(x,'%d/%m/%Y'))\r\n",
    "print(df)\r\n",
    "df.set_index('date',drop=True,inplace=True)\r\n",
    "print(df)\r\n",
    "\r\n",
    "\r\n",
    "states = pd.DataFrame(df['state'].unique())\r\n",
    "states.columns = ['state']\r\n",
    "'Print Vaccine Data'\r\n",
    "for state in states['state']:\r\n",
    "\r\n",
    "    df[df['state'] ==state][['first_dose','second_dose','Total']].plot(title=state + ' : Vaccine Data')\r\n",
    "    \r\n"
   ]
  },
  {
   "cell_type": "code",
   "execution_count": null,
   "metadata": {},
   "outputs": [],
   "source": [
    "df = pd.DataFrame(my_list)   "
   ]
  },
  {
   "cell_type": "code",
   "execution_count": null,
   "metadata": {},
   "outputs": [],
   "source": [
    "df"
   ]
  },
  {
   "cell_type": "code",
   "execution_count": null,
   "metadata": {},
   "outputs": [],
   "source": [
    "pd.DataFrame(my_list)"
   ]
  },
  {
   "cell_type": "code",
   "execution_count": null,
   "metadata": {},
   "outputs": [],
   "source": [
    "import requests\r\n",
    "print(\"https://api.covid19india.org/csv/latest/case_time_series.csv\")\r\n",
    "req = requests. get(csv_url)"
   ]
  },
  {
   "cell_type": "code",
   "execution_count": null,
   "metadata": {},
   "outputs": [],
   "source": [
    "csv_url = \"http://api.covid19india.org/csv/latest/vaccine_doses_statewise_v2.csv\"\r\n",
    "# print(\"http://api.covid19india.org/csv/latest/vaccine_doses_statewise.csv\")\r\n",
    "req = requests. get(csv_url)\r\n",
    "url_content = req. content\r\n",
    "csv_file = open('c:\\\\lal\\\\downloaded.csv', 'wb')\r\n",
    "csv_file.write(url_content)\r\n",
    "# url_content"
   ]
  },
  {
   "cell_type": "code",
   "execution_count": null,
   "metadata": {},
   "outputs": [],
   "source": [
    "req.text"
   ]
  },
  {
   "cell_type": "code",
   "execution_count": null,
   "metadata": {},
   "outputs": [],
   "source": [
    "import matplotlib as plt\r\n",
    "states = pd.DataFrame(df['state'].unique())\r\n",
    "states.columns = ['state']\r\n",
    "'Print Vaccine Data'\r\n",
    "for state in states['state']:\r\n",
    "\r\n",
    "    df[df['state'] ==state][['first_dose','second_dose','Total']].plot(title=state + ' : Vaccine Data')"
   ]
  },
  {
   "cell_type": "code",
   "execution_count": null,
   "metadata": {},
   "outputs": [],
   "source": []
  },
  {
   "cell_type": "code",
   "execution_count": null,
   "metadata": {},
   "outputs": [],
   "source": [
    "df[df['state'] =='Tamil Nadu'][['first_dose','second_dose','Total']].plot(title='Vaccine Data')"
   ]
  },
  {
   "cell_type": "code",
   "execution_count": null,
   "metadata": {},
   "outputs": [],
   "source": [
    "df.to_csv('c:\\\\lal\\python\\\\output.csv')"
   ]
  },
  {
   "cell_type": "code",
   "execution_count": null,
   "metadata": {},
   "outputs": [],
   "source": [
    "states"
   ]
  },
  {
   "cell_type": "code",
   "execution_count": null,
   "metadata": {},
   "outputs": [],
   "source": [
    "def Table(request):\r\n",
    "    df = pd.read_csv(\"C:/lal/python/outtput.csv\")\r\n",
    "  \r\n",
    "    # parsing the DataFrame in json format.\r\n",
    "    json_records = df.reset_index().to_json(orient ='records')\r\n",
    "    data = []\r\n",
    "    data = json.loads(json_records)\r\n",
    "    context = {'d': data}\r\n",
    "  \r\n",
    "    return render(request, 'table.html', context)"
   ]
  },
  {
   "cell_type": "code",
   "execution_count": null,
   "metadata": {},
   "outputs": [],
   "source": [
    "import pandas as pd\r\n",
    "import json\r\n",
    "df = pd.read_csv(\"C:\\\\lal\\python\\output.csv\")\r\n",
    "json_records = df.reset_index().to_json(orient ='records')\r\n",
    "\r\n",
    "json_records1 = df.reset_index().to_json(orient ='index')\r\n",
    "# data = {}\r\n",
    "\r\n",
    "data =json.loads(json_records)"
   ]
  },
  {
   "cell_type": "code",
   "execution_count": null,
   "metadata": {},
   "outputs": [],
   "source": [
    "# type(json_records)\r\n",
    "type(data[0])\r\n",
    "\r\n",
    "json_records = df.reset_index().to_json(orient ='records')\r\n",
    "# json_records"
   ]
  },
  {
   "cell_type": "code",
   "execution_count": null,
   "metadata": {},
   "outputs": [],
   "source": [
    "json.dumps(json_records)\r\n",
    "# json.dumps(json_records, indent=4)  "
   ]
  },
  {
   "cell_type": "code",
   "execution_count": null,
   "metadata": {},
   "outputs": [],
   "source": [
    "\r\n",
    "\r\n",
    "\r\n"
   ]
  }
 ],
 "metadata": {
  "interpreter": {
   "hash": "b3726128542155a7fc38795c98c9cfdc066aafbf4bf2885aed9f673f0d1ae06a"
  },
  "kernelspec": {
   "display_name": "Python 3.8.10 64-bit ('python38': conda)",
   "name": "python3"
  },
  "language_info": {
   "codemirror_mode": {
    "name": "ipython",
    "version": 3
   },
   "file_extension": ".py",
   "mimetype": "text/x-python",
   "name": "python",
   "nbconvert_exporter": "python",
   "pygments_lexer": "ipython3",
   "version": "3.8.10"
  },
  "orig_nbformat": 4
 },
 "nbformat": 4,
 "nbformat_minor": 2
}